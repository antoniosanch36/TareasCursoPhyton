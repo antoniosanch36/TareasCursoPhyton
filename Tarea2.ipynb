{
  "nbformat": 4,
  "nbformat_minor": 0,
  "metadata": {
    "colab": {
      "name": "Tarea2.ipynb",
      "provenance": [],
      "collapsed_sections": [],
      "authorship_tag": "ABX9TyNd5XRo9QULAV4SbGgUKVcN",
      "include_colab_link": true
    },
    "kernelspec": {
      "name": "python3",
      "display_name": "Python 3"
    }
  },
  "cells": [
    {
      "cell_type": "markdown",
      "metadata": {
        "id": "view-in-github",
        "colab_type": "text"
      },
      "source": [
        "<a href=\"https://colab.research.google.com/github/antoniosanch36/TareasCursoPhyton/blob/main/Tarea2.ipynb\" target=\"_parent\"><img src=\"https://colab.research.google.com/assets/colab-badge.svg\" alt=\"Open In Colab\"/></a>"
      ]
    },
    {
      "cell_type": "code",
      "metadata": {
        "id": "LVx4e4yXxbzD"
      },
      "source": [
        "Banco = [\r\n",
        "         {\r\n",
        "          'Nombre': 'Jesus',\r\n",
        "          'Cuenta': '1234567',\r\n",
        "          'Tarjeta de Credito': 'No',\r\n",
        "          'Cliente frecuente': 'Si'\r\n",
        "         },\r\n",
        "\r\n",
        "         {\r\n",
        "          'Nombre': 'Arturo',\r\n",
        "          'Cuenta': '1235332',\r\n",
        "          'Tarjeta de Credito': 'Si',\r\n",
        "          'Cliente frecuente': 'No'\r\n",
        "         }\r\n",
        "]"
      ],
      "execution_count": 14,
      "outputs": []
    },
    {
      "cell_type": "code",
      "metadata": {
        "id": "9aBKS3xGEvwq"
      },
      "source": [
        "Banco[0].update({'Calificacion de fidelidad: ': '4'}) \r\n",
        "Banco[1].update({'Calificacion de fidelidad: ': '3'})\r\n"
      ],
      "execution_count": 16,
      "outputs": []
    },
    {
      "cell_type": "code",
      "metadata": {
        "colab": {
          "base_uri": "https://localhost:8080/"
        },
        "id": "4zcsovfj7Fgl",
        "outputId": "5c4c232f-5da2-4f34-fefe-a04adef8937d"
      },
      "source": [
        "Nombre = input(\"Ingrese el nombre del tercer cliente: \")\r\n",
        "Cuenta = input(\"Ingresa la nueva cuenta: \")\r\n",
        "Tarjeta_de_credito = input(\"Cuenta con tarjeta de Credito? \")\r\n",
        "Cliente_Frecuente = input(\"Es un cliente frecuente? \")\r\n",
        "Calificacion = float(input(\"Ingrese la calificacion de fidelidad del cliente: \"))\r\n",
        "\r\n",
        "Banco.append({\r\n",
        "                'Nombre': Nombre,\r\n",
        "                'Cuenta': Cuenta,\r\n",
        "    'Tarjeta de credito': Tarjeta_de_credito,\r\n",
        "    'Cliente Frecuente' : Cliente_Frecuente,\r\n",
        "    'Calificacion de fidelidad': Calificacion\r\n",
        "            })\r\n",
        "Banco"
      ],
      "execution_count": 18,
      "outputs": [
        {
          "output_type": "stream",
          "text": [
            "Ingrese el nombre del tercer cliente: Jose rosales\n",
            "Ingresa la nueva cuenta: 2242345\n",
            "Cuenta con tarjeta de Credito? Si\n",
            "Es un cliente frecuente? Si\n",
            "Ingrese la calificacion de fidelidad del cliente: 4.8\n"
          ],
          "name": "stdout"
        },
        {
          "output_type": "execute_result",
          "data": {
            "text/plain": [
              "[{'Calificacion de fidelidad: ': '4',\n",
              "  'Cliente frecuente': 'Si',\n",
              "  'Cuenta': '1234567',\n",
              "  'Nombre': 'Jesus',\n",
              "  'Tarjeta de Credito': 'No'},\n",
              " {'Calificacion de fidelidad: ': '3',\n",
              "  'Cliente frecuente': 'No',\n",
              "  'Cuenta': '1235332',\n",
              "  'Nombre': 'Arturo',\n",
              "  'Tarjeta de Credito': 'Si'},\n",
              " {'Calificacion de fidelidad': 4.8,\n",
              "  'Cliente Frecuente': 'Si',\n",
              "  'Cuenta': '2242345',\n",
              "  'Nombre': 'Jose rosales',\n",
              "  'Tarjeta de credito': 'Si'}]"
            ]
          },
          "metadata": {
            "tags": []
          },
          "execution_count": 18
        }
      ]
    }
  ]
}