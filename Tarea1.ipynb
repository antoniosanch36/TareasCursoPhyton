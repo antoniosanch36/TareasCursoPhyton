{
  "nbformat": 4,
  "nbformat_minor": 0,
  "metadata": {
    "colab": {
      "name": "Tarea1.ipynb",
      "provenance": [],
      "collapsed_sections": [],
      "authorship_tag": "ABX9TyMa4Zz5Un5WEkDid0wyDwac",
      "include_colab_link": true
    },
    "kernelspec": {
      "name": "python3",
      "display_name": "Python 3"
    }
  },
  "cells": [
    {
      "cell_type": "markdown",
      "metadata": {
        "id": "view-in-github",
        "colab_type": "text"
      },
      "source": [
        "<a href=\"https://colab.research.google.com/github/antoniosanch36/TareasCursoPhyton/blob/main/Tarea1.ipynb\" target=\"_parent\"><img src=\"https://colab.research.google.com/assets/colab-badge.svg\" alt=\"Open In Colab\"/></a>"
      ]
    },
    {
      "cell_type": "markdown",
      "metadata": {
        "id": "7wrhKCcHqBLW"
      },
      "source": [
        "Programa de la clase"
      ]
    },
    {
      "cell_type": "code",
      "metadata": {
        "id": "4qTPD5DbV26M",
        "colab": {
          "base_uri": "https://localhost:8080/"
        },
        "outputId": "8ead436c-8d50-4d10-ae13-f6c71d66020a"
      },
      "source": [
        "#Crear una variable string \r\n",
        "Mensaje = \"Hola\"\r\n",
        "#Imprimiendo la variable\r\n",
        "#print(Mensaje)\r\n",
        "\r\n",
        "print(\"\\t Como estas? \\n \\tEstoy bien\", Mensaje)"
      ],
      "execution_count": 2,
      "outputs": [
        {
          "output_type": "stream",
          "text": [
            "Hola\n",
            "\t Como estas? \n",
            " \tEstoy bien Hola\n"
          ],
          "name": "stdout"
        }
      ]
    },
    {
      "cell_type": "code",
      "metadata": {
        "colab": {
          "base_uri": "https://localhost:8080/"
        },
        "id": "LMkFPfM5esxr",
        "outputId": "0c4f1589-ce93-4b3f-c902-20d2c2b6d5ea"
      },
      "source": [
        "#Concatenando Strings\r\n",
        "M_1 = \"Estoy\"\r\n",
        "M_2 = \" estudiando\"\r\n",
        "M_3  = \" una clase\"\r\n",
        "M_total = M_1 + M_2 + M_3\r\n",
        "\r\n",
        "print(M_total)\r\n",
        "print(M_1 + M_2 + M_3 + \" de Python\")\r\n",
        "\r\n",
        "# No se debe hacer esto ya que son caracteres\r\n",
        "Numero_1 = \"1\"\r\n",
        "Numero_2 = \"2\"\r\n",
        "Numero_3 = Numero_1 + Numero_2\r\n",
        "print(Numero_3)"
      ],
      "execution_count": 4,
      "outputs": [
        {
          "output_type": "stream",
          "text": [
            "Estoy estudiando una clase\n",
            "Estoy estudiando una clase de Python\n",
            "12\n"
          ],
          "name": "stdout"
        }
      ]
    },
    {
      "cell_type": "code",
      "metadata": {
        "colab": {
          "base_uri": "https://localhost:8080/"
        },
        "id": "fMCkDMNTf8bm",
        "outputId": "d8deff6c-11f8-4f19-b191-9b7f16d6a020"
      },
      "source": [
        "# Agregar variables\r\n",
        "#print(\"Cual es tu nombre?\")\r\n",
        "\r\n",
        "#Solicitar al usuario un string\r\n",
        "Nombre = input(\"Cual es tu nombre? \")\r\n",
        "#print(Nombre)\r\n",
        "\r\n",
        "# Solicitar al ususario mediante un mensaje\r\n",
        "Apellido = input(\"Cual es tu apellido? \")\r\n",
        "\r\n",
        "print(\"Mi nombre es\", Nombre, Apellido)"
      ],
      "execution_count": 8,
      "outputs": [
        {
          "output_type": "stream",
          "text": [
            "Cual es tu nombre? Jesus \n",
            "Cual es tu apellido? Sanchez\n",
            "Mi nombre es Jesus  Sanchez\n"
          ],
          "name": "stdout"
        }
      ]
    },
    {
      "cell_type": "markdown",
      "metadata": {
        "id": "9MtAH6DEqHob"
      },
      "source": [
        "Tarea 1\r\n"
      ]
    },
    {
      "cell_type": "code",
      "metadata": {
        "colab": {
          "base_uri": "https://localhost:8080/"
        },
        "id": "jX3FogQniZKa",
        "outputId": "39d547a7-07c2-4d05-e718-4ff170bfbb27"
      },
      "source": [
        "# Ejercicio de Tarea \r\n",
        "Nombre = input(\"Cual es tu nombre? \\n\")\r\n",
        "Nombre2 = input(\"Cual es tu segundo nombre? \\n\")\r\n",
        "Apellido = input(\"Cual es tu apellido? \\n\")\r\n",
        "Segundo = input(\"Cual es tu segundo apellido? \\n\")\r\n",
        "#Impresion\r\n",
        "Completo = \"\\nEl nombre completo es: \"+ Nombre +\" \"+ Nombre2 + \" \"+ Apellido +\" \"+ Segundo\r\n",
        "print(Completo)\r\n",
        "\r\n",
        "\r\n",
        "#Otra manera de imprimir en pantalla\r\n",
        "NombreCom = print(\"\\nMi nombre es: \"+ Nombre +\" \"+ Nombre2 +\" \"+ Apellido +\" \"+ Segundo+ \"\")\r\n"
      ],
      "execution_count": 25,
      "outputs": [
        {
          "output_type": "stream",
          "text": [
            "Cual es tu nombre? \n",
            "Jesus\n",
            "Cual es tu segundo nombre? \n",
            "Antonio\n",
            "Cual es tu apellido? \n",
            "Sanchez \n",
            "Cual es tu segundo apellido? \n",
            "Garcia\n",
            "\n",
            "El nombre completo es: Jesus Antonio Sanchez  Garcia\n",
            "\n",
            "Mi nombre es: Jesus Antonio Sanchez  Garcia\n"
          ],
          "name": "stdout"
        }
      ]
    }
  ]
}