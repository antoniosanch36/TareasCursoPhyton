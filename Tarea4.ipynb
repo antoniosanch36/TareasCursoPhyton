{
  "nbformat": 4,
  "nbformat_minor": 0,
  "metadata": {
    "colab": {
      "name": "Tarea4.ipynb",
      "provenance": [],
      "collapsed_sections": [],
      "authorship_tag": "ABX9TyOuScbOtleAgwO3lc4Q3TiV",
      "include_colab_link": true
    },
    "kernelspec": {
      "name": "python3",
      "display_name": "Python 3"
    }
  },
  "cells": [
    {
      "cell_type": "markdown",
      "metadata": {
        "id": "view-in-github",
        "colab_type": "text"
      },
      "source": [
        "<a href=\"https://colab.research.google.com/github/antoniosanch36/TareasCursoPhyton/blob/main/Tarea4.ipynb\" target=\"_parent\"><img src=\"https://colab.research.google.com/assets/colab-badge.svg\" alt=\"Open In Colab\"/></a>"
      ]
    },
    {
      "cell_type": "code",
      "metadata": {
        "colab": {
          "base_uri": "https://localhost:8080/"
        },
        "id": "ETJ5FV8FlOvW",
        "outputId": "11864396-4cf4-4672-d1ea-0281193030b2"
      },
      "source": [
        "# Un ciclo es un código que se repite varias veces hasta que se deja \r\n",
        "# de cumplir una condicion\r\n",
        "\r\n",
        "# Iteracion: es el numero de veces que se ha repetido el ciclo\r\n",
        "\r\n",
        "# Ciclo while\r\n",
        "\r\n",
        "# Solicitar un numero par al usuario\r\n",
        "\r\n",
        "Numero = int( input(\"Ingresa un numero par \") )\r\n",
        "\r\n",
        "while Numero % 2 != 0:\r\n",
        "  Numero = int( input(\"DIJE QUE INGRESARAS UN NUMERO PAR!!! \") )\r\n",
        "\r\n",
        "print(\"El numero par es:\", Numero)"
      ],
      "execution_count": 1,
      "outputs": [
        {
          "output_type": "stream",
          "text": [
            "Ingresa un numero par 5\n",
            "DIJE QUE INGRESARAS UN NUMERO PAR!!! 2\n",
            "El numero par es: 2\n"
          ],
          "name": "stdout"
        }
      ]
    },
    {
      "cell_type": "code",
      "metadata": {
        "colab": {
          "base_uri": "https://localhost:8080/"
        },
        "id": "w5G3fEmBl8U5",
        "outputId": "3e8d57d9-a618-4871-b19e-3ec78c2464f0"
      },
      "source": [
        "# Imprimiendo numeros del 1 al 5\r\n",
        "\r\n",
        "i = 1\r\n",
        "while i <= 5:\r\n",
        "  print(i)\r\n",
        "  i += 1"
      ],
      "execution_count": 2,
      "outputs": [
        {
          "output_type": "stream",
          "text": [
            "1\n",
            "2\n",
            "3\n",
            "4\n",
            "5\n"
          ],
          "name": "stdout"
        }
      ]
    },
    {
      "cell_type": "code",
      "metadata": {
        "colab": {
          "base_uri": "https://localhost:8080/"
        },
        "id": "nZY_QNwQmEnO",
        "outputId": "bf3e40a2-9813-4a5a-cfb9-d464020f3e84"
      },
      "source": [
        "# Ciclo for \r\n",
        "\r\n",
        "# ciclo donde el numero de iteraciones normalmente es conocido\r\n",
        "# la variable i toma un valor de la lista\r\n",
        "# en cada iteracion\r\n",
        "\r\n",
        "# Imprimir numeros del 1 al 5\r\n",
        "\r\n",
        "for i in [1,2,3,4,5]:\r\n",
        "  print(i)"
      ],
      "execution_count": 3,
      "outputs": [
        {
          "output_type": "stream",
          "text": [
            "1\n",
            "2\n",
            "3\n",
            "4\n",
            "5\n"
          ],
          "name": "stdout"
        }
      ]
    },
    {
      "cell_type": "code",
      "metadata": {
        "colab": {
          "base_uri": "https://localhost:8080/"
        },
        "id": "SsXNtekmmLRf",
        "outputId": "306c8e31-360d-4efe-dc77-98ca8c4b1a61"
      },
      "source": [
        "# Funcion range crea un arreglo de numeros\r\n",
        "# range(Inicio, Termina, incremento)\r\n",
        "# range(num) el arreglo va desde cero hasta num - 1 de uno en uno\r\n",
        "\r\n",
        "# Creando una lista con numeros del 0 al 10\r\n",
        "y = range(11)\r\n",
        "print( list(y) )\r\n",
        "\r\n",
        "# Sumatoria de los elementos en x\r\n",
        "x = [1,2,3,5,5]\r\n",
        "Suma = 0\r\n",
        "\r\n",
        "for i in x:\r\n",
        "  Suma += i\r\n",
        "\r\n",
        "print(Suma)\r\n",
        "\r\n",
        "# Sumando de una forma diferente\r\n",
        "\r\n",
        "Suma2 = 0\r\n",
        "for i in range(5):\r\n",
        "  Suma2 +=  x[i]\r\n",
        "\r\n",
        "print(Suma2)"
      ],
      "execution_count": 4,
      "outputs": [
        {
          "output_type": "stream",
          "text": [
            "[0, 1, 2, 3, 4, 5, 6, 7, 8, 9, 10]\n",
            "16\n",
            "16\n"
          ],
          "name": "stdout"
        }
      ]
    },
    {
      "cell_type": "code",
      "metadata": {
        "colab": {
          "base_uri": "https://localhost:8080/"
        },
        "id": "LV1cwxrpmQf-",
        "outputId": "b20b4907-70a7-4f9d-c085-757cdca6d070"
      },
      "source": [
        "\r\n",
        "tamaño = len(x)\r\n",
        "\r\n",
        "print(\"El tamaño de la lista es: \", tamaño)\r\n",
        "\r\n",
        "for i in range(tamaño):\r\n",
        "  if x[i] == 4:\r\n",
        "    print(\"El numero 4 esta en la posicion\",i)\r\n",
        "    break\r\n",
        "\r\n",
        "\r\n",
        "\r\n",
        "print(\"El numero de iteraciones fue: \", i + 1)"
      ],
      "execution_count": 5,
      "outputs": [
        {
          "output_type": "stream",
          "text": [
            "El tamaño de la lista es:  5\n",
            "El numero de iteraciones fue:  5\n"
          ],
          "name": "stdout"
        }
      ]
    },
    {
      "cell_type": "markdown",
      "metadata": {
        "id": "TgotW8aPmYAc"
      },
      "source": [
        "Tarea\r\n",
        "\r\n",
        "Multiplicar todos los elementos de una matriz ó lista de listas (de minimo 3x3) por un numero (puede ser el que sea menos 1 y 0) mediante ciclos y despues imprimir la nueva lista, pueden usar más de un ciclo o ciclos dentro de otros ciclos, pero mínimo deben de usar un ciclo"
      ]
    },
    {
      "cell_type": "code",
      "metadata": {
        "colab": {
          "base_uri": "https://localhost:8080/"
        },
        "id": "e-u5b84bQ3iI",
        "outputId": "338ad596-f7dc-4d96-f314-a458e1ef0c5e"
      },
      "source": [
        "import numpy as np\r\n",
        "\r\n",
        "I = np.zeros((10, 10)).astype(int)\r\n",
        "\r\n",
        "for i in range(int(I.shape[0])):\r\n",
        "    for j in range(int(I.shape[0])):\r\n",
        "        if (i%2==0 and j%2==0):\r\n",
        "            I[i,j] = i*j\r\n",
        "\r\n",
        "print(I)"
      ],
      "execution_count": 37,
      "outputs": [
        {
          "output_type": "stream",
          "text": [
            "[[ 0  0  0  0  0  0  0  0  0  0]\n",
            " [ 0  0  0  0  0  0  0  0  0  0]\n",
            " [ 0  0  4  0  8  0 12  0 16  0]\n",
            " [ 0  0  0  0  0  0  0  0  0  0]\n",
            " [ 0  0  8  0 16  0 24  0 32  0]\n",
            " [ 0  0  0  0  0  0  0  0  0  0]\n",
            " [ 0  0 12  0 24  0 36  0 48  0]\n",
            " [ 0  0  0  0  0  0  0  0  0  0]\n",
            " [ 0  0 16  0 32  0 48  0 64  0]\n",
            " [ 0  0  0  0  0  0  0  0  0  0]]\n"
          ],
          "name": "stdout"
        }
      ]
    },
    {
      "cell_type": "code",
      "metadata": {
        "colab": {
          "base_uri": "https://localhost:8080/"
        },
        "id": "cSKfAwytmVDF",
        "outputId": "90d638c8-de4a-46d4-a7c9-993800fb0287"
      },
      "source": [
        "A = [ [1,2,3],[4,5,6],[7,8,9] ]\r\n",
        "print(A)\r\n",
        "\r\n",
        "for i in range(len(A)):\r\n",
        "  for j in range(len(A[i])):\r\n",
        "    A[i][j] = 3*(A[i][j])\r\n",
        "    \r\n",
        "\r\n",
        "  print(A)"
      ],
      "execution_count": 47,
      "outputs": [
        {
          "output_type": "stream",
          "text": [
            "[[1, 2, 3], [4, 5, 6], [7, 8, 9]]\n",
            "[[3, 6, 9], [12, 15, 18], [21, 24, 27]]\n"
          ],
          "name": "stdout"
        }
      ]
    }
  ]
}