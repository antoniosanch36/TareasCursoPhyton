{
 "cells": [
  {
   "cell_type": "markdown",
   "metadata": {},
   "source": [
    "# Listas \n",
    "Las listas en Python son un tipo de dato que permite almacenar datos de cualquier tipo.\n",
    "\n",
    "Se definen con corchetes \"[ ]\""
   ]
  },
  {
   "cell_type": "code",
   "execution_count": 5,
   "metadata": {},
   "outputs": [
    {
     "name": "stdout",
     "output_type": "stream",
     "text": [
      "<class 'list'>\n",
      "[]\n",
      "[1, 2, 'estaLista', '23']\n",
      "[[1, 1], [2, 2], [3, 3]]\n",
      "<class 'list'>\n"
     ]
    }
   ],
   "source": [
    "L = list\n",
    "lista_vacia = []\n",
    "lista = [1,2,\"estaLista\",'23']\n",
    "lista_de_listas = [[1,1],[2,2],[3,3]] #propiedad de anidacion\n",
    "\n",
    "# Impresion\n",
    "print(L)                              #tipo de variable por si solo\n",
    "print(lista_vacia)\n",
    "print(lista)\n",
    "print(lista_de_listas)\n",
    "\n",
    "#imprimir el tipo de dato que es.\n",
    "print(type(lista_de_listas))"
   ]
  },
  {
   "cell_type": "markdown",
   "metadata": {},
   "source": [
    "# Set\n",
    "Estructuras de datos que almacenan variables.\n",
    "\n",
    "Se definen con llaves \"{ }\" o con el constructor \"set()\"\n",
    "\n",
    "Son de elementos ÚNICOS, DESORDENADOS e INMUTABLES."
   ]
  },
  {
   "cell_type": "code",
   "execution_count": 10,
   "metadata": {},
   "outputs": [
    {
     "name": "stdout",
     "output_type": "stream",
     "text": [
      "{}\n",
      "{'hello', 1, '69', 45}\n",
      "<class 'type'>\n",
      "<class 'type'>\n"
     ]
    }
   ],
   "source": [
    "S = set([1,2,'este']) # No pueden almacenar booleanos\n",
    "s = set\n",
    "set_Vacio = {}   #Diccionario\n",
    "SET = {1,1,1,1,45,'69',\"hello\",\"hello\",\"hello\"}\n",
    "\n",
    "print(set_Vacio)\n",
    "print(SET)\n",
    "print(type(s))\n",
    "print(type(s))\n"
   ]
  },
  {
   "cell_type": "markdown",
   "metadata": {},
   "source": [
    "# Tupla \n",
    "structuras de datos que almacenan variables.\n",
    "\n",
    "Se definen con paréntesis \"( )\" o sin ellas.\n",
    "\n",
    "Son ORDENADAS, INMUTABLES y se pueden ANIDAR."
   ]
  },
  {
   "cell_type": "code",
   "execution_count": 11,
   "metadata": {},
   "outputs": [
    {
     "name": "stdout",
     "output_type": "stream",
     "text": [
      "()\n",
      "(1, True, 8, '90', 9.0)\n",
      "(0, 1, (0, False), (1, True))\n",
      "<class 'tuple'>\n",
      "<class 'tuple'>\n",
      "<class 'tuple'>\n",
      "<class 'tuple'>\n"
     ]
    }
   ],
   "source": [
    "Tupla = tuple \n",
    "tUpla = ()\n",
    "tuPla = (1,True,8,\"90\",9.0)\n",
    "tupLa = 0,1,(0,False),(1,True)     # Tupla anidada y sin paréntesis para definirse\n",
    "\n",
    "print(tUpla)\n",
    "print(tuPla)\n",
    "print(tupLa)\n",
    "\n",
    "\n",
    "print(Tupla)                # Tipo de dato por sí solo\n",
    "print(type(tUpla))\n",
    "print(type(tuPla))\n",
    "print(type(tupLa))"
   ]
  },
  {
   "cell_type": "markdown",
   "metadata": {},
   "source": [
    "# Diccionarios\n",
    "Los diccionarios en Python son una estructura de datos que permite almacenar su contenido en forma de llave y valor.\n",
    "\n",
    "Se definen con llaves \"{ }\" o con el constructor \"dict()\"\n",
    "\n",
    "Son INDEXADOS, MUTABLES y DINÁMICOS"
   ]
  },
  {
   "cell_type": "code",
   "execution_count": 12,
   "metadata": {},
   "outputs": [
    {
     "name": "stdout",
     "output_type": "stream",
     "text": [
      "{}\n",
      "{1: 2, 'uno': 'dos'}\n",
      "{'Nombre': 'Miguel', 'Edad': 21, 'Soltero': True}\n",
      "<class 'dict'>\n",
      "<class 'dict'>\n",
      "<class 'dict'>\n",
      "<class 'dict'>\n"
     ]
    }
   ],
   "source": [
    "# Diccionario forma {Key : Value} A cada llave (key) hay un valor (value).\n",
    "\n",
    "Dict = dict\n",
    "\n",
    "Diccionario_Vacio = {}\n",
    "\n",
    "Diccionario = dict([(1,2),(\"uno\",'dos')])   # ¡OJO! Aquí no se usan los dos puntos \":\" sino comas \",\"\n",
    "\n",
    "DICCIONARIO = {\"Nombre\" : \"Miguel\",\n",
    "               \"Edad\"   :  21,   \n",
    "               \"Soltero\": True }\n",
    "\n",
    "print(Diccionario_Vacio)\n",
    "print(Diccionario)\n",
    "print(DICCIONARIO)\n",
    "\n",
    "\n",
    "print(Dict)\n",
    "print(type(Diccionario_Vacio))\n",
    "print(type(Diccionario))\n",
    "print(type(DICCIONARIO))"
   ]
  },
  {
   "cell_type": "code",
   "execution_count": null,
   "metadata": {},
   "outputs": [],
   "source": []
  }
 ],
 "metadata": {
  "kernelspec": {
   "display_name": "Python 3",
   "language": "python",
   "name": "python3"
  },
  "language_info": {
   "codemirror_mode": {
    "name": "ipython",
    "version": 3
   },
   "file_extension": ".py",
   "mimetype": "text/x-python",
   "name": "python",
   "nbconvert_exporter": "python",
   "pygments_lexer": "ipython3",
   "version": "3.8.5"
  }
 },
 "nbformat": 4,
 "nbformat_minor": 4
}
